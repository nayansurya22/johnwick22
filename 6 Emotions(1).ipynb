{
 "cells": [
  {
   "cell_type": "code",
   "execution_count": 269,
   "metadata": {},
   "outputs": [],
   "source": [
    "import librosa\n",
    "import soundfile\n",
    "import os, glob, pickle\n",
    "import numpy as np\n",
    "from sklearn.model_selection import train_test_split\n",
    "from sklearn.neural_network import MLPClassifier\n",
    "from sklearn.metrics import accuracy_score\n",
    "import pandas as pd\n",
    "import seaborn as sns\n"
   ]
  },
  {
   "cell_type": "code",
   "execution_count": 270,
   "metadata": {},
   "outputs": [],
   "source": [
    "#- Extract features (mfcc, chroma, mel) from a sound file\n",
    "def extract_feature(file_name, mfcc, chroma, mel):\n",
    "    with soundfile.SoundFile(file_name) as sound_file:\n",
    "        X = sound_file.read(dtype=\"float32\")\n",
    "        sample_rate=sound_file.samplerate\n",
    "        if chroma:\n",
    "            stft=np.abs(librosa.stft(X))\n",
    "        result=np.array([])\n",
    "        if mfcc:\n",
    "            mfccs=np.mean(librosa.feature.mfcc(y=X, sr=sample_rate, n_mfcc=40).T, axis=0)\n",
    "            result=np.hstack((result, mfccs))\n",
    "        if chroma:\n",
    "            chroma=np.mean(librosa.feature.chroma_stft(S=stft, sr=sample_rate).T,axis=0)\n",
    "            result=np.hstack((result, chroma))\n",
    "        if mel:\n",
    "            mel=np.mean(librosa.feature.melspectrogram(X, sr=sample_rate).T,axis=0)\n",
    "            result=np.hstack((result, mel))\n",
    "    return result"
   ]
  },
  {
   "cell_type": "markdown",
   "metadata": {},
   "source": [
    "### Dataset Description:\n",
    "- RAVDESS. This dataset includes around 1500 audio file input from 24 different actors. 12 male and 12 female where these actors record short audios in 8 different emotions i.e 1 = neutral, 2 = calm, 3 = happy, 4 = sad, 5 = angry, 6 = fearful, 7 = disgust, 8 = surprised.\n",
    "- Each audio file is named in such a way that the 7th character is consistent with the different emotions that they represent."
   ]
  },
  {
   "cell_type": "code",
   "execution_count": 271,
   "metadata": {},
   "outputs": [],
   "source": [
    "#- Emotions in the RAVDESS dataset\n",
    "emotions={\n",
    "  '01':'neutral',\n",
    "  '02':'calm',\n",
    "  '03':'happy',\n",
    "  '04':'sad',\n",
    "  '05':'angry',\n",
    "  '06':'fearful',\n",
    "  '07':'disgust',\n",
    "  '08':'surprised'\n",
    "}\n",
    "\n",
    "#- Emotions to observe\n",
    "observed_emotions=['happy', 'sad', 'angry','fearful','calm','neutral']"
   ]
  },
  {
   "cell_type": "code",
   "execution_count": 272,
   "metadata": {},
   "outputs": [],
   "source": [
    "li = glob.glob('speech-emotion-recognition-ravdess-data//Actor_*//*.wav')"
   ]
  },
  {
   "cell_type": "code",
   "execution_count": 273,
   "metadata": {},
   "outputs": [
    {
     "data": {
      "text/plain": [
       "'machine'"
      ]
     },
     "execution_count": 273,
     "metadata": {},
     "output_type": "execute_result"
    }
   ],
   "source": [
    "\"hello-world-machine\".split('-')[2]"
   ]
  },
  {
   "cell_type": "code",
   "execution_count": 274,
   "metadata": {},
   "outputs": [
    {
     "name": "stdout",
     "output_type": "stream",
     "text": [
      "1440\n"
     ]
    }
   ],
   "source": [
    "print(len(li))"
   ]
  },
  {
   "cell_type": "code",
   "execution_count": 275,
   "metadata": {},
   "outputs": [
    {
     "data": {
      "text/plain": [
       "'speech-emotion-recognition-ravdess-data/Actor_20/03-01-02-02-01-02-20.wav'"
      ]
     },
     "execution_count": 275,
     "metadata": {},
     "output_type": "execute_result"
    }
   ],
   "source": [
    "li[0]"
   ]
  },
  {
   "cell_type": "code",
   "execution_count": 277,
   "metadata": {},
   "outputs": [
    {
     "data": {
      "text/plain": [
       "'calm'"
      ]
     },
     "execution_count": 277,
     "metadata": {},
     "output_type": "execute_result"
    }
   ],
   "source": [
    "emotions['02']"
   ]
  },
  {
   "cell_type": "code",
   "execution_count": 278,
   "metadata": {},
   "outputs": [],
   "source": [
    "# Load the data and extract features for each sound file\n",
    "def load_data(test_size=0.2):\n",
    "    x,y=[],[]\n",
    "    for file in glob.glob('speech-emotion-recognition-ravdess-data//Actor_*//*.wav'):\n",
    "        file_name=os.path.basename(file)\n",
    "        emotion=emotions[file_name.split(\"-\")[2]]\n",
    "        if emotion not in observed_emotions:\n",
    "            continue\n",
    "        feature=extract_feature(file, mfcc=True, chroma=True, mel=True)\n",
    "        x.append(feature)\n",
    "        y.append(emotion)\n",
    "    print(len(x))\n",
    "    return train_test_split(np.array(x), y, test_size=test_size, random_state=9)"
   ]
  },
  {
   "cell_type": "code",
   "execution_count": 280,
   "metadata": {},
   "outputs": [
    {
     "name": "stdout",
     "output_type": "stream",
     "text": [
      "1056\n"
     ]
    }
   ],
   "source": [
    "#- Split the dataset\n",
    "x_train,x_test,y_train,y_test=load_data(test_size=0.25)"
   ]
  },
  {
   "cell_type": "code",
   "execution_count": 281,
   "metadata": {},
   "outputs": [
    {
     "data": {
      "text/html": [
       "<div>\n",
       "<style scoped>\n",
       "    .dataframe tbody tr th:only-of-type {\n",
       "        vertical-align: middle;\n",
       "    }\n",
       "\n",
       "    .dataframe tbody tr th {\n",
       "        vertical-align: top;\n",
       "    }\n",
       "\n",
       "    .dataframe thead th {\n",
       "        text-align: right;\n",
       "    }\n",
       "</style>\n",
       "<table border=\"1\" class=\"dataframe\">\n",
       "  <thead>\n",
       "    <tr style=\"text-align: right;\">\n",
       "      <th></th>\n",
       "      <th>0</th>\n",
       "      <th>1</th>\n",
       "      <th>2</th>\n",
       "      <th>3</th>\n",
       "      <th>4</th>\n",
       "      <th>5</th>\n",
       "      <th>6</th>\n",
       "      <th>7</th>\n",
       "      <th>8</th>\n",
       "      <th>9</th>\n",
       "      <th>...</th>\n",
       "      <th>170</th>\n",
       "      <th>171</th>\n",
       "      <th>172</th>\n",
       "      <th>173</th>\n",
       "      <th>174</th>\n",
       "      <th>175</th>\n",
       "      <th>176</th>\n",
       "      <th>177</th>\n",
       "      <th>178</th>\n",
       "      <th>179</th>\n",
       "    </tr>\n",
       "  </thead>\n",
       "  <tbody>\n",
       "    <tr>\n",
       "      <th>0</th>\n",
       "      <td>-753.903564</td>\n",
       "      <td>58.697540</td>\n",
       "      <td>22.190947</td>\n",
       "      <td>23.483717</td>\n",
       "      <td>2.261500</td>\n",
       "      <td>5.511842</td>\n",
       "      <td>-5.610104</td>\n",
       "      <td>1.401128</td>\n",
       "      <td>7.174681</td>\n",
       "      <td>5.859857</td>\n",
       "      <td>...</td>\n",
       "      <td>0.000002</td>\n",
       "      <td>0.000003</td>\n",
       "      <td>0.000003</td>\n",
       "      <td>0.000003</td>\n",
       "      <td>0.000003</td>\n",
       "      <td>0.000003</td>\n",
       "      <td>0.000002</td>\n",
       "      <td>8.673883e-07</td>\n",
       "      <td>6.387770e-07</td>\n",
       "      <td>2.753891e-07</td>\n",
       "    </tr>\n",
       "    <tr>\n",
       "      <th>1</th>\n",
       "      <td>-708.847046</td>\n",
       "      <td>46.317905</td>\n",
       "      <td>-7.616024</td>\n",
       "      <td>12.254804</td>\n",
       "      <td>-2.071856</td>\n",
       "      <td>-15.850799</td>\n",
       "      <td>-19.631052</td>\n",
       "      <td>-3.644379</td>\n",
       "      <td>-0.173876</td>\n",
       "      <td>-5.059706</td>\n",
       "      <td>...</td>\n",
       "      <td>0.000007</td>\n",
       "      <td>0.000008</td>\n",
       "      <td>0.000011</td>\n",
       "      <td>0.000008</td>\n",
       "      <td>0.000010</td>\n",
       "      <td>0.000009</td>\n",
       "      <td>0.000013</td>\n",
       "      <td>8.914263e-06</td>\n",
       "      <td>3.816886e-06</td>\n",
       "      <td>4.165867e-06</td>\n",
       "    </tr>\n",
       "    <tr>\n",
       "      <th>2</th>\n",
       "      <td>-434.918243</td>\n",
       "      <td>39.027271</td>\n",
       "      <td>-12.455023</td>\n",
       "      <td>2.949124</td>\n",
       "      <td>-9.011634</td>\n",
       "      <td>-2.080880</td>\n",
       "      <td>-1.698096</td>\n",
       "      <td>-8.712143</td>\n",
       "      <td>-0.857271</td>\n",
       "      <td>-3.776086</td>\n",
       "      <td>...</td>\n",
       "      <td>0.002079</td>\n",
       "      <td>0.001941</td>\n",
       "      <td>0.001807</td>\n",
       "      <td>0.001911</td>\n",
       "      <td>0.002072</td>\n",
       "      <td>0.001470</td>\n",
       "      <td>0.001210</td>\n",
       "      <td>4.999317e-04</td>\n",
       "      <td>3.561951e-04</td>\n",
       "      <td>1.502130e-04</td>\n",
       "    </tr>\n",
       "    <tr>\n",
       "      <th>3</th>\n",
       "      <td>-502.958099</td>\n",
       "      <td>39.657391</td>\n",
       "      <td>-10.176451</td>\n",
       "      <td>7.423949</td>\n",
       "      <td>-3.269854</td>\n",
       "      <td>-7.004786</td>\n",
       "      <td>-12.901738</td>\n",
       "      <td>-17.004301</td>\n",
       "      <td>-11.487122</td>\n",
       "      <td>2.437736</td>\n",
       "      <td>...</td>\n",
       "      <td>0.001392</td>\n",
       "      <td>0.000727</td>\n",
       "      <td>0.000775</td>\n",
       "      <td>0.000628</td>\n",
       "      <td>0.000413</td>\n",
       "      <td>0.000428</td>\n",
       "      <td>0.000385</td>\n",
       "      <td>1.653953e-04</td>\n",
       "      <td>1.167815e-04</td>\n",
       "      <td>7.066256e-05</td>\n",
       "    </tr>\n",
       "    <tr>\n",
       "      <th>4</th>\n",
       "      <td>-461.681396</td>\n",
       "      <td>29.723816</td>\n",
       "      <td>-23.741978</td>\n",
       "      <td>7.408719</td>\n",
       "      <td>-11.339372</td>\n",
       "      <td>-6.834982</td>\n",
       "      <td>-3.726737</td>\n",
       "      <td>-8.230829</td>\n",
       "      <td>1.673163</td>\n",
       "      <td>-2.040044</td>\n",
       "      <td>...</td>\n",
       "      <td>0.000504</td>\n",
       "      <td>0.000493</td>\n",
       "      <td>0.000419</td>\n",
       "      <td>0.000427</td>\n",
       "      <td>0.000517</td>\n",
       "      <td>0.000508</td>\n",
       "      <td>0.000429</td>\n",
       "      <td>2.817209e-04</td>\n",
       "      <td>1.861213e-04</td>\n",
       "      <td>9.623745e-05</td>\n",
       "    </tr>\n",
       "    <tr>\n",
       "      <th>...</th>\n",
       "      <td>...</td>\n",
       "      <td>...</td>\n",
       "      <td>...</td>\n",
       "      <td>...</td>\n",
       "      <td>...</td>\n",
       "      <td>...</td>\n",
       "      <td>...</td>\n",
       "      <td>...</td>\n",
       "      <td>...</td>\n",
       "      <td>...</td>\n",
       "      <td>...</td>\n",
       "      <td>...</td>\n",
       "      <td>...</td>\n",
       "      <td>...</td>\n",
       "      <td>...</td>\n",
       "      <td>...</td>\n",
       "      <td>...</td>\n",
       "      <td>...</td>\n",
       "      <td>...</td>\n",
       "      <td>...</td>\n",
       "      <td>...</td>\n",
       "    </tr>\n",
       "    <tr>\n",
       "      <th>787</th>\n",
       "      <td>-717.240356</td>\n",
       "      <td>63.731388</td>\n",
       "      <td>2.225929</td>\n",
       "      <td>15.644918</td>\n",
       "      <td>4.033844</td>\n",
       "      <td>-2.028955</td>\n",
       "      <td>-5.899800</td>\n",
       "      <td>-5.539160</td>\n",
       "      <td>-7.947823</td>\n",
       "      <td>2.182504</td>\n",
       "      <td>...</td>\n",
       "      <td>0.000005</td>\n",
       "      <td>0.000003</td>\n",
       "      <td>0.000002</td>\n",
       "      <td>0.000003</td>\n",
       "      <td>0.000003</td>\n",
       "      <td>0.000003</td>\n",
       "      <td>0.000003</td>\n",
       "      <td>1.854591e-06</td>\n",
       "      <td>1.289050e-06</td>\n",
       "      <td>6.484481e-07</td>\n",
       "    </tr>\n",
       "    <tr>\n",
       "      <th>788</th>\n",
       "      <td>-658.863525</td>\n",
       "      <td>64.386353</td>\n",
       "      <td>0.626828</td>\n",
       "      <td>16.827145</td>\n",
       "      <td>3.291239</td>\n",
       "      <td>-2.699481</td>\n",
       "      <td>-9.383718</td>\n",
       "      <td>-3.546461</td>\n",
       "      <td>-4.032407</td>\n",
       "      <td>1.611793</td>\n",
       "      <td>...</td>\n",
       "      <td>0.000011</td>\n",
       "      <td>0.000005</td>\n",
       "      <td>0.000003</td>\n",
       "      <td>0.000002</td>\n",
       "      <td>0.000004</td>\n",
       "      <td>0.000002</td>\n",
       "      <td>0.000003</td>\n",
       "      <td>4.258365e-06</td>\n",
       "      <td>1.442966e-06</td>\n",
       "      <td>7.125711e-07</td>\n",
       "    </tr>\n",
       "    <tr>\n",
       "      <th>789</th>\n",
       "      <td>-562.096863</td>\n",
       "      <td>56.422756</td>\n",
       "      <td>-5.834606</td>\n",
       "      <td>17.935446</td>\n",
       "      <td>-2.309973</td>\n",
       "      <td>-4.761283</td>\n",
       "      <td>-4.715704</td>\n",
       "      <td>-11.826902</td>\n",
       "      <td>-2.034873</td>\n",
       "      <td>-1.602894</td>\n",
       "      <td>...</td>\n",
       "      <td>0.000350</td>\n",
       "      <td>0.000177</td>\n",
       "      <td>0.000122</td>\n",
       "      <td>0.000160</td>\n",
       "      <td>0.000106</td>\n",
       "      <td>0.000080</td>\n",
       "      <td>0.000086</td>\n",
       "      <td>9.647800e-05</td>\n",
       "      <td>5.626846e-05</td>\n",
       "      <td>3.778785e-05</td>\n",
       "    </tr>\n",
       "    <tr>\n",
       "      <th>790</th>\n",
       "      <td>-664.598145</td>\n",
       "      <td>63.108654</td>\n",
       "      <td>6.817679</td>\n",
       "      <td>23.232924</td>\n",
       "      <td>-2.679262</td>\n",
       "      <td>7.699213</td>\n",
       "      <td>-6.134918</td>\n",
       "      <td>-1.753741</td>\n",
       "      <td>-1.201036</td>\n",
       "      <td>1.209462</td>\n",
       "      <td>...</td>\n",
       "      <td>0.000012</td>\n",
       "      <td>0.000009</td>\n",
       "      <td>0.000008</td>\n",
       "      <td>0.000013</td>\n",
       "      <td>0.000016</td>\n",
       "      <td>0.000008</td>\n",
       "      <td>0.000006</td>\n",
       "      <td>3.525044e-06</td>\n",
       "      <td>8.850585e-07</td>\n",
       "      <td>4.485153e-07</td>\n",
       "    </tr>\n",
       "    <tr>\n",
       "      <th>791</th>\n",
       "      <td>-617.201599</td>\n",
       "      <td>67.193787</td>\n",
       "      <td>7.304123</td>\n",
       "      <td>20.949999</td>\n",
       "      <td>4.514252</td>\n",
       "      <td>6.054639</td>\n",
       "      <td>-4.400037</td>\n",
       "      <td>0.724220</td>\n",
       "      <td>-1.287742</td>\n",
       "      <td>-0.335564</td>\n",
       "      <td>...</td>\n",
       "      <td>0.000209</td>\n",
       "      <td>0.000125</td>\n",
       "      <td>0.000087</td>\n",
       "      <td>0.000095</td>\n",
       "      <td>0.000108</td>\n",
       "      <td>0.000121</td>\n",
       "      <td>0.000071</td>\n",
       "      <td>4.261062e-05</td>\n",
       "      <td>2.074102e-05</td>\n",
       "      <td>1.161815e-05</td>\n",
       "    </tr>\n",
       "  </tbody>\n",
       "</table>\n",
       "<p>792 rows × 180 columns</p>\n",
       "</div>"
      ],
      "text/plain": [
       "            0          1          2          3          4          5    \\\n",
       "0   -753.903564  58.697540  22.190947  23.483717   2.261500   5.511842   \n",
       "1   -708.847046  46.317905  -7.616024  12.254804  -2.071856 -15.850799   \n",
       "2   -434.918243  39.027271 -12.455023   2.949124  -9.011634  -2.080880   \n",
       "3   -502.958099  39.657391 -10.176451   7.423949  -3.269854  -7.004786   \n",
       "4   -461.681396  29.723816 -23.741978   7.408719 -11.339372  -6.834982   \n",
       "..          ...        ...        ...        ...        ...        ...   \n",
       "787 -717.240356  63.731388   2.225929  15.644918   4.033844  -2.028955   \n",
       "788 -658.863525  64.386353   0.626828  16.827145   3.291239  -2.699481   \n",
       "789 -562.096863  56.422756  -5.834606  17.935446  -2.309973  -4.761283   \n",
       "790 -664.598145  63.108654   6.817679  23.232924  -2.679262   7.699213   \n",
       "791 -617.201599  67.193787   7.304123  20.949999   4.514252   6.054639   \n",
       "\n",
       "           6          7          8         9    ...       170       171  \\\n",
       "0    -5.610104   1.401128   7.174681  5.859857  ...  0.000002  0.000003   \n",
       "1   -19.631052  -3.644379  -0.173876 -5.059706  ...  0.000007  0.000008   \n",
       "2    -1.698096  -8.712143  -0.857271 -3.776086  ...  0.002079  0.001941   \n",
       "3   -12.901738 -17.004301 -11.487122  2.437736  ...  0.001392  0.000727   \n",
       "4    -3.726737  -8.230829   1.673163 -2.040044  ...  0.000504  0.000493   \n",
       "..         ...        ...        ...       ...  ...       ...       ...   \n",
       "787  -5.899800  -5.539160  -7.947823  2.182504  ...  0.000005  0.000003   \n",
       "788  -9.383718  -3.546461  -4.032407  1.611793  ...  0.000011  0.000005   \n",
       "789  -4.715704 -11.826902  -2.034873 -1.602894  ...  0.000350  0.000177   \n",
       "790  -6.134918  -1.753741  -1.201036  1.209462  ...  0.000012  0.000009   \n",
       "791  -4.400037   0.724220  -1.287742 -0.335564  ...  0.000209  0.000125   \n",
       "\n",
       "          172       173       174       175       176           177  \\\n",
       "0    0.000003  0.000003  0.000003  0.000003  0.000002  8.673883e-07   \n",
       "1    0.000011  0.000008  0.000010  0.000009  0.000013  8.914263e-06   \n",
       "2    0.001807  0.001911  0.002072  0.001470  0.001210  4.999317e-04   \n",
       "3    0.000775  0.000628  0.000413  0.000428  0.000385  1.653953e-04   \n",
       "4    0.000419  0.000427  0.000517  0.000508  0.000429  2.817209e-04   \n",
       "..        ...       ...       ...       ...       ...           ...   \n",
       "787  0.000002  0.000003  0.000003  0.000003  0.000003  1.854591e-06   \n",
       "788  0.000003  0.000002  0.000004  0.000002  0.000003  4.258365e-06   \n",
       "789  0.000122  0.000160  0.000106  0.000080  0.000086  9.647800e-05   \n",
       "790  0.000008  0.000013  0.000016  0.000008  0.000006  3.525044e-06   \n",
       "791  0.000087  0.000095  0.000108  0.000121  0.000071  4.261062e-05   \n",
       "\n",
       "              178           179  \n",
       "0    6.387770e-07  2.753891e-07  \n",
       "1    3.816886e-06  4.165867e-06  \n",
       "2    3.561951e-04  1.502130e-04  \n",
       "3    1.167815e-04  7.066256e-05  \n",
       "4    1.861213e-04  9.623745e-05  \n",
       "..            ...           ...  \n",
       "787  1.289050e-06  6.484481e-07  \n",
       "788  1.442966e-06  7.125711e-07  \n",
       "789  5.626846e-05  3.778785e-05  \n",
       "790  8.850585e-07  4.485153e-07  \n",
       "791  2.074102e-05  1.161815e-05  \n",
       "\n",
       "[792 rows x 180 columns]"
      ]
     },
     "execution_count": 281,
     "metadata": {},
     "output_type": "execute_result"
    }
   ],
   "source": [
    "pd.DataFrame(x_train)"
   ]
  },
  {
   "cell_type": "code",
   "execution_count": 282,
   "metadata": {},
   "outputs": [],
   "source": [
    "y_test=pd.DataFrame(y_test)"
   ]
  },
  {
   "cell_type": "code",
   "execution_count": 283,
   "metadata": {},
   "outputs": [
    {
     "data": {
      "text/plain": [
       "fearful    51\n",
       "calm       50\n",
       "sad        50\n",
       "angry      47\n",
       "happy      44\n",
       "neutral    22\n",
       "Name: 0, dtype: int64"
      ]
     },
     "execution_count": 283,
     "metadata": {},
     "output_type": "execute_result"
    }
   ],
   "source": [
    "y_test[0].value_counts()"
   ]
  },
  {
   "cell_type": "code",
   "execution_count": 284,
   "metadata": {},
   "outputs": [],
   "source": [
    "y_test = list(y_test.values)"
   ]
  },
  {
   "cell_type": "code",
   "execution_count": 285,
   "metadata": {},
   "outputs": [
    {
     "name": "stdout",
     "output_type": "stream",
     "text": [
      "(792, 264)\n"
     ]
    }
   ],
   "source": [
    "#Get the shape of the training and testing datasets\n",
    "print((x_train.shape[0], x_test.shape[0]))"
   ]
  },
  {
   "cell_type": "code",
   "execution_count": 286,
   "metadata": {},
   "outputs": [],
   "source": [
    "model=MLPClassifier(alpha=0.01, batch_size=256, epsilon=1e-08, hidden_layer_sizes=(300,), learning_rate='adaptive', max_iter=500)"
   ]
  },
  {
   "cell_type": "code",
   "execution_count": 287,
   "metadata": {},
   "outputs": [
    {
     "data": {
      "text/plain": [
       "MLPClassifier(alpha=0.01, batch_size=256, hidden_layer_sizes=(300,),\n",
       "              learning_rate='adaptive', max_iter=500)"
      ]
     },
     "execution_count": 287,
     "metadata": {},
     "output_type": "execute_result"
    }
   ],
   "source": [
    "model.fit(x_train,y_train)"
   ]
  },
  {
   "cell_type": "code",
   "execution_count": 288,
   "metadata": {},
   "outputs": [],
   "source": [
    "y_pred=model.predict(x_test)"
   ]
  },
  {
   "cell_type": "code",
   "execution_count": 289,
   "metadata": {},
   "outputs": [],
   "source": [
    "accuracy=accuracy_score(y_true=y_test, y_pred=y_pred)"
   ]
  },
  {
   "cell_type": "code",
   "execution_count": 290,
   "metadata": {},
   "outputs": [
    {
     "name": "stdout",
     "output_type": "stream",
     "text": [
      "Accuracy: 49.62%\n"
     ]
    }
   ],
   "source": [
    "print(\"Accuracy: {:.2f}%\".format(accuracy*100))"
   ]
  },
  {
   "cell_type": "code",
   "execution_count": 291,
   "metadata": {},
   "outputs": [],
   "source": [
    "from sklearn.metrics import confusion_matrix"
   ]
  },
  {
   "cell_type": "code",
   "execution_count": 292,
   "metadata": {},
   "outputs": [],
   "source": [
    "cm = confusion_matrix(y_true=y_test,y_pred=y_pred)"
   ]
  },
  {
   "cell_type": "code",
   "execution_count": 293,
   "metadata": {},
   "outputs": [
    {
     "data": {
      "text/plain": [
       "array([[37,  1,  0,  6,  0,  3],\n",
       "       [ 0, 24,  0,  5,  0, 21],\n",
       "       [10,  1,  8, 15,  1, 16],\n",
       "       [ 9,  1,  0, 28,  0,  6],\n",
       "       [ 4,  7,  0,  3,  1,  7],\n",
       "       [ 3,  8,  0,  5,  1, 33]])"
      ]
     },
     "execution_count": 293,
     "metadata": {},
     "output_type": "execute_result"
    }
   ],
   "source": [
    "cm"
   ]
  },
  {
   "cell_type": "code",
   "execution_count": 294,
   "metadata": {},
   "outputs": [],
   "source": [
    "y_test=pd.DataFrame(y_test)"
   ]
  },
  {
   "cell_type": "code",
   "execution_count": 295,
   "metadata": {},
   "outputs": [
    {
     "data": {
      "text/plain": [
       "fearful    51\n",
       "calm       50\n",
       "sad        50\n",
       "angry      47\n",
       "happy      44\n",
       "neutral    22\n",
       "Name: 0, dtype: int64"
      ]
     },
     "execution_count": 295,
     "metadata": {},
     "output_type": "execute_result"
    }
   ],
   "source": [
    "y_test[0].value_counts()"
   ]
  },
  {
   "cell_type": "code",
   "execution_count": 296,
   "metadata": {},
   "outputs": [
    {
     "data": {
      "text/plain": [
       "43"
      ]
     },
     "execution_count": 296,
     "metadata": {},
     "output_type": "execute_result"
    }
   ],
   "source": [
    "37+5+1  #- column 1"
   ]
  },
  {
   "cell_type": "code",
   "execution_count": 297,
   "metadata": {},
   "outputs": [
    {
     "data": {
      "text/plain": [
       "45"
      ]
     },
     "execution_count": 297,
     "metadata": {},
     "output_type": "execute_result"
    }
   ],
   "source": [
    "37+2+6   #- row 1  - emotion angry   37 "
   ]
  },
  {
   "cell_type": "code",
   "execution_count": 298,
   "metadata": {},
   "outputs": [
    {
     "data": {
      "text/plain": [
       "53"
      ]
     },
     "execution_count": 298,
     "metadata": {},
     "output_type": "execute_result"
    }
   ],
   "source": [
    "5+36+12"
   ]
  },
  {
   "cell_type": "code",
   "execution_count": 299,
   "metadata": {},
   "outputs": [
    {
     "data": {
      "text/plain": [
       "<AxesSubplot:>"
      ]
     },
     "execution_count": 299,
     "metadata": {},
     "output_type": "execute_result"
    },
    {
     "data": {
      "image/png": "[encoded data removed]",
      "text/plain": [
       "<Figure size 432x288 with 2 Axes>"
      ]
     },
     "metadata": {
      "needs_background": "light"
     },
     "output_type": "display_data"
    }
   ],
   "source": [
    "sns.heatmap(cm,annot=True)"
   ]
  },
  {
   "cell_type": "code",
   "execution_count": 300,
   "metadata": {},
   "outputs": [
    {
     "data": {
      "text/plain": [
       "0.4962121212121212"
      ]
     },
     "execution_count": 300,
     "metadata": {},
     "output_type": "execute_result"
    }
   ],
   "source": [
    "model.score(x_test,y_test)"
   ]
  },
  {
   "cell_type": "code",
   "execution_count": 301,
   "metadata": {},
   "outputs": [],
   "source": [
    "import warnings\n",
    "warnings.filterwarnings('ignore')"
   ]
  },
  {
   "cell_type": "code",
   "execution_count": 302,
   "metadata": {},
   "outputs": [],
   "source": [
    "from keras import models\n",
    "from keras import layers\n",
    "from keras.utils import to_categorical"
   ]
  },
  {
   "cell_type": "code",
   "execution_count": 303,
   "metadata": {},
   "outputs": [],
   "source": [
    "network = models.Sequential()\n",
    "network.add(layers.Dense(180, activation='relu', input_shape=(180,)))\n",
    "network.add(layers.Dense(10, activation='relu', input_shape=(180,)))\n",
    "network.add(layers.Dense(10, activation='relu', input_shape=(10,)))\n",
    "network.add(layers.Dense(10, activation='relu', input_shape=(10,)))\n",
    "network.add(layers.Dense(10, activation='relu', input_shape=(10,)))\n",
    "network.add(layers.Dense(10, activation='relu', input_shape=(10,)))\n",
    "network.add(layers.Dense(6, activation='softmax'))\n",
    "network.compile(optimizer='adam',\n",
    "                loss='categorical_crossentropy',\n",
    "                metrics=['accuracy'])"
   ]
  },
  {
   "cell_type": "code",
   "execution_count": 304,
   "metadata": {},
   "outputs": [],
   "source": [
    "from sklearn.preprocessing import LabelEncoder"
   ]
  },
  {
   "cell_type": "code",
   "execution_count": 305,
   "metadata": {},
   "outputs": [
    {
     "name": "stdout",
     "output_type": "stream",
     "text": [
      "Model: \"sequential_3\"\n",
      "_________________________________________________________________\n",
      "Layer (type)                 Output Shape              Param #   \n",
      "=================================================================\n",
      "dense_21 (Dense)             (None, 180)               32580     \n",
      "_________________________________________________________________\n",
      "dense_22 (Dense)             (None, 10)                1810      \n",
      "_________________________________________________________________\n",
      "dense_23 (Dense)             (None, 10)                110       \n",
      "_________________________________________________________________\n",
      "dense_24 (Dense)             (None, 10)                110       \n",
      "_________________________________________________________________\n",
      "dense_25 (Dense)             (None, 10)                110       \n",
      "_________________________________________________________________\n",
      "dense_26 (Dense)             (None, 10)                110       \n",
      "_________________________________________________________________\n",
      "dense_27 (Dense)             (None, 6)                 66        \n",
      "=================================================================\n",
      "Total params: 34,896\n",
      "Trainable params: 34,896\n",
      "Non-trainable params: 0\n",
      "_________________________________________________________________\n"
     ]
    }
   ],
   "source": [
    "network.summary()"
   ]
  },
  {
   "cell_type": "code",
   "execution_count": 306,
   "metadata": {},
   "outputs": [],
   "source": [
    "y_train = LabelEncoder().fit_transform(y_train)"
   ]
  },
  {
   "cell_type": "code",
   "execution_count": 307,
   "metadata": {},
   "outputs": [
    {
     "data": {
      "text/plain": [
       "array([1, 1, 0, 3, 3, 1, 0, 3, 1, 1, 0, 1, 0, 2, 5, 3, 5, 2, 3, 2, 0, 5,\n",
       "       1, 0, 4, 0, 3, 5, 0, 4, 4, 5, 4, 5, 1, 3, 5, 3, 2, 1, 0, 2, 2, 2,\n",
       "       5, 2, 5, 2, 0, 1, 5, 3, 3, 3, 2, 3, 1, 2, 1, 1, 2, 3, 1, 0, 5, 2,\n",
       "       2, 5, 3, 2, 0, 1, 1, 0, 1, 3, 4, 5, 0, 4, 3, 3, 5, 3, 5, 2, 3, 3,\n",
       "       4, 0, 5, 5, 2, 4, 5, 3, 1, 3, 2, 0, 3, 5, 0, 0, 1, 5, 2, 1, 1, 5,\n",
       "       2, 5, 1, 2, 0, 0, 4, 0, 1, 2, 5, 0, 2, 1, 0, 4, 2, 1, 1, 5, 4, 1,\n",
       "       4, 1, 0, 1, 1, 5, 3, 1, 3, 2, 3, 2, 5, 1, 1, 1, 2, 2, 3, 5, 3, 1,\n",
       "       2, 1, 5, 0, 0, 3, 1, 1, 4, 3, 3, 3, 0, 1, 2, 5, 4, 0, 5, 4, 1, 1,\n",
       "       2, 5, 5, 3, 5, 5, 3, 3, 4, 0, 2, 2, 5, 2, 2, 0, 3, 1, 3, 0, 0, 3,\n",
       "       4, 5, 5, 3, 0, 3, 5, 0, 2, 0, 4, 0, 0, 1, 1, 5, 0, 2, 1, 2, 5, 5,\n",
       "       5, 5, 2, 3, 5, 0, 0, 4, 0, 5, 0, 1, 2, 1, 2, 3, 4, 5, 1, 0, 0, 4,\n",
       "       0, 2, 0, 0, 5, 1, 1, 0, 3, 4, 3, 2, 4, 1, 0, 5, 1, 0, 5, 1, 2, 2,\n",
       "       0, 1, 5, 3, 5, 2, 1, 3, 2, 5, 2, 2, 2, 3, 1, 0, 2, 3, 2, 0, 5, 1,\n",
       "       0, 0, 2, 1, 2, 4, 3, 1, 0, 0, 0, 2, 0, 3, 3, 3, 2, 5, 1, 3, 5, 2,\n",
       "       0, 1, 5, 4, 1, 2, 5, 3, 0, 3, 3, 0, 3, 3, 1, 0, 5, 3, 4, 1, 4, 3,\n",
       "       2, 3, 1, 5, 5, 0, 5, 5, 0, 2, 3, 1, 5, 5, 2, 5, 2, 5, 3, 0, 5, 2,\n",
       "       0, 3, 0, 0, 4, 3, 2, 2, 0, 3, 0, 1, 4, 3, 1, 1, 2, 1, 3, 2, 4, 1,\n",
       "       5, 3, 1, 2, 0, 2, 2, 4, 1, 0, 3, 1, 2, 4, 1, 4, 1, 1, 5, 3, 1, 1,\n",
       "       5, 2, 5, 3, 5, 0, 3, 2, 5, 2, 0, 2, 3, 0, 5, 5, 4, 3, 3, 3, 0, 5,\n",
       "       5, 1, 3, 3, 5, 1, 2, 1, 4, 2, 3, 2, 2, 3, 3, 3, 5, 3, 0, 2, 0, 1,\n",
       "       2, 3, 1, 0, 5, 4, 0, 3, 0, 1, 1, 0, 2, 5, 3, 0, 0, 3, 4, 2, 3, 2,\n",
       "       4, 1, 5, 1, 0, 0, 2, 1, 5, 1, 3, 4, 2, 5, 0, 3, 5, 5, 1, 0, 2, 3,\n",
       "       5, 4, 2, 2, 1, 0, 3, 2, 5, 4, 5, 0, 2, 0, 5, 4, 0, 0, 4, 3, 0, 3,\n",
       "       3, 5, 1, 2, 5, 0, 1, 0, 3, 3, 3, 3, 0, 4, 4, 1, 0, 0, 2, 3, 1, 2,\n",
       "       3, 5, 5, 0, 0, 0, 3, 2, 4, 0, 0, 4, 0, 5, 3, 5, 3, 1, 3, 5, 1, 0,\n",
       "       5, 3, 2, 1, 5, 2, 3, 5, 4, 2, 1, 5, 0, 3, 5, 0, 4, 1, 2, 1, 2, 5,\n",
       "       4, 4, 5, 1, 0, 4, 5, 3, 2, 3, 0, 0, 3, 1, 5, 3, 0, 0, 0, 0, 2, 3,\n",
       "       5, 5, 4, 0, 0, 2, 4, 2, 5, 3, 1, 5, 2, 1, 1, 1, 1, 0, 2, 0, 3, 2,\n",
       "       0, 3, 0, 0, 2, 1, 1, 3, 5, 4, 5, 2, 2, 0, 4, 1, 1, 0, 3, 0, 2, 0,\n",
       "       4, 1, 5, 2, 0, 1, 3, 3, 3, 5, 5, 5, 1, 3, 5, 2, 2, 4, 4, 2, 5, 0,\n",
       "       0, 2, 5, 2, 5, 5, 4, 3, 3, 2, 2, 2, 5, 3, 2, 3, 3, 2, 3, 5, 1, 1,\n",
       "       3, 2, 0, 3, 2, 5, 3, 5, 2, 5, 1, 0, 2, 1, 3, 3, 3, 5, 1, 0, 1, 5,\n",
       "       2, 0, 0, 1, 4, 4, 1, 0, 2, 0, 2, 4, 5, 4, 5, 0, 2, 5, 0, 3, 0, 5,\n",
       "       2, 2, 3, 4, 1, 2, 4, 3, 3, 1, 1, 5, 5, 3, 3, 1, 3, 1, 0, 4, 5, 2,\n",
       "       4, 4, 1, 0, 5, 1, 1, 3, 4, 5, 3, 2, 2, 1, 3, 2, 1, 4, 0, 1, 3, 0,\n",
       "       2, 1, 2, 5, 5, 3, 1, 4, 5, 1, 2, 1, 4, 1, 5, 0, 2, 1, 5, 3, 4, 1])"
      ]
     },
     "execution_count": 307,
     "metadata": {},
     "output_type": "execute_result"
    }
   ],
   "source": [
    "y_train"
   ]
  },
  {
   "cell_type": "code",
   "execution_count": 308,
   "metadata": {},
   "outputs": [],
   "source": [
    "y_train = to_categorical(y_train)"
   ]
  },
  {
   "cell_type": "code",
   "execution_count": 309,
   "metadata": {},
   "outputs": [],
   "source": [
    "y_test = LabelEncoder().fit_transform(y_test)"
   ]
  },
  {
   "cell_type": "code",
   "execution_count": 310,
   "metadata": {},
   "outputs": [],
   "source": [
    "y_test = to_categorical(y_test)"
   ]
  },
  {
   "cell_type": "code",
   "execution_count": 311,
   "metadata": {},
   "outputs": [
    {
     "name": "stdout",
     "output_type": "stream",
     "text": [
      "Epoch 1/300\n",
      "25/25 [==============================] - 0s 6ms/step - loss: 4.0412 - accuracy: 0.1806\n",
      "Epoch 2/300\n",
      "25/25 [==============================] - 0s 5ms/step - loss: 1.9025 - accuracy: 0.1566\n",
      "Epoch 3/300\n",
      "25/25 [==============================] - 0s 4ms/step - loss: 1.7976 - accuracy: 0.1995\n",
      "Epoch 4/300\n",
      "25/25 [==============================] - 0s 3ms/step - loss: 1.7818 - accuracy: 0.2260\n",
      "Epoch 5/300\n",
      "25/25 [==============================] - 0s 6ms/step - loss: 1.7715 - accuracy: 0.2601\n",
      "Epoch 6/300\n",
      "25/25 [==============================] - 0s 7ms/step - loss: 1.7551 - accuracy: 0.2513\n",
      "Epoch 7/300\n",
      "25/25 [==============================] - 0s 5ms/step - loss: 1.7389 - accuracy: 0.2475\n",
      "Epoch 8/300\n",
      "25/25 [==============================] - 0s 4ms/step - loss: 1.7201 - accuracy: 0.2525\n",
      "Epoch 9/300\n",
      "25/25 [==============================] - 0s 3ms/step - loss: 1.7288 - accuracy: 0.2449\n",
      "Epoch 10/300\n",
      "25/25 [==============================] - 0s 4ms/step - loss: 1.6880 - accuracy: 0.2639\n",
      "Epoch 11/300\n",
      "25/25 [==============================] - 0s 8ms/step - loss: 1.6657 - accuracy: 0.2790\n",
      "Epoch 12/300\n",
      "25/25 [==============================] - 0s 7ms/step - loss: 1.6526 - accuracy: 0.2790\n",
      "Epoch 13/300\n",
      "25/25 [==============================] - 0s 5ms/step - loss: 1.6296 - accuracy: 0.2727\n",
      "Epoch 14/300\n",
      "25/25 [==============================] - 0s 4ms/step - loss: 1.6002 - accuracy: 0.3068\n",
      "Epoch 15/300\n",
      "25/25 [==============================] - 0s 4ms/step - loss: 1.5769 - accuracy: 0.3207\n",
      "Epoch 16/300\n",
      "25/25 [==============================] - 0s 5ms/step - loss: 1.5804 - accuracy: 0.3043\n",
      "Epoch 17/300\n",
      "25/25 [==============================] - 0s 6ms/step - loss: 1.5668 - accuracy: 0.3030\n",
      "Epoch 18/300\n",
      "25/25 [==============================] - 0s 6ms/step - loss: 1.5329 - accuracy: 0.3371\n",
      "Epoch 19/300\n",
      "25/25 [==============================] - 0s 8ms/step - loss: 1.5279 - accuracy: 0.3333\n",
      "Epoch 20/300\n",
      "25/25 [==============================] - 0s 7ms/step - loss: 1.5084 - accuracy: 0.3371\n",
      "Epoch 21/300\n",
      "25/25 [==============================] - 0s 5ms/step - loss: 1.4960 - accuracy: 0.3548\n",
      "Epoch 22/300\n",
      "25/25 [==============================] - 0s 4ms/step - loss: 1.5102 - accuracy: 0.3396\n",
      "Epoch 23/300\n",
      "25/25 [==============================] - 0s 5ms/step - loss: 1.5493 - accuracy: 0.3068\n",
      "Epoch 24/300\n",
      "25/25 [==============================] - 0s 5ms/step - loss: 1.5117 - accuracy: 0.3207\n",
      "Epoch 25/300\n",
      "25/25 [==============================] - 0s 4ms/step - loss: 1.4572 - accuracy: 0.3699\n",
      "Epoch 26/300\n",
      "25/25 [==============================] - 0s 4ms/step - loss: 1.4392 - accuracy: 0.3788\n",
      "Epoch 27/300\n",
      "25/25 [==============================] - 0s 5ms/step - loss: 1.4382 - accuracy: 0.3548\n",
      "Epoch 28/300\n",
      "25/25 [==============================] - 0s 6ms/step - loss: 1.4579 - accuracy: 0.3598\n",
      "Epoch 29/300\n",
      "25/25 [==============================] - 0s 7ms/step - loss: 1.4231 - accuracy: 0.3914\n",
      "Epoch 30/300\n",
      "25/25 [==============================] - 0s 7ms/step - loss: 1.4160 - accuracy: 0.3914\n",
      "Epoch 31/300\n",
      "25/25 [==============================] - 0s 6ms/step - loss: 1.3973 - accuracy: 0.3851\n",
      "Epoch 32/300\n",
      "25/25 [==============================] - 0s 8ms/step - loss: 1.4135 - accuracy: 0.3636\n",
      "Epoch 33/300\n",
      "25/25 [==============================] - 0s 6ms/step - loss: 1.4128 - accuracy: 0.3813\n",
      "Epoch 34/300\n",
      "25/25 [==============================] - 0s 7ms/step - loss: 1.4262 - accuracy: 0.4078\n",
      "Epoch 35/300\n",
      "25/25 [==============================] - 0s 5ms/step - loss: 1.3917 - accuracy: 0.3826\n",
      "Epoch 36/300\n",
      "25/25 [==============================] - 0s 3ms/step - loss: 1.3644 - accuracy: 0.4129\n",
      "Epoch 37/300\n",
      "25/25 [==============================] - 0s 9ms/step - loss: 1.3734 - accuracy: 0.3801\n",
      "Epoch 38/300\n",
      "25/25 [==============================] - 0s 5ms/step - loss: 1.3570 - accuracy: 0.3952\n",
      "Epoch 39/300\n",
      "25/25 [==============================] - 0s 4ms/step - loss: 1.3593 - accuracy: 0.4066\n",
      "Epoch 40/300\n",
      "25/25 [==============================] - 0s 8ms/step - loss: 1.3847 - accuracy: 0.3851\n",
      "Epoch 41/300\n",
      "25/25 [==============================] - 0s 4ms/step - loss: 1.3310 - accuracy: 0.4293\n",
      "Epoch 42/300\n",
      "25/25 [==============================] - 0s 4ms/step - loss: 1.3764 - accuracy: 0.4078\n",
      "Epoch 43/300\n",
      "25/25 [==============================] - 0s 5ms/step - loss: 1.3786 - accuracy: 0.4343\n",
      "Epoch 44/300\n",
      "25/25 [==============================] - 0s 4ms/step - loss: 1.3786 - accuracy: 0.4179\n",
      "Epoch 45/300\n",
      "25/25 [==============================] - 0s 4ms/step - loss: 1.3189 - accuracy: 0.4394\n",
      "Epoch 46/300\n",
      "25/25 [==============================] - 0s 5ms/step - loss: 1.3111 - accuracy: 0.4508\n",
      "Epoch 47/300\n",
      "25/25 [==============================] - 0s 5ms/step - loss: 1.2948 - accuracy: 0.4634\n",
      "Epoch 48/300\n",
      "25/25 [==============================] - 0s 5ms/step - loss: 1.2959 - accuracy: 0.4508\n",
      "Epoch 49/300\n",
      "25/25 [==============================] - 0s 4ms/step - loss: 1.3216 - accuracy: 0.4596\n",
      "Epoch 50/300\n",
      "25/25 [==============================] - 0s 6ms/step - loss: 1.4154 - accuracy: 0.4116\n",
      "Epoch 51/300\n",
      "25/25 [==============================] - 0s 7ms/step - loss: 1.3755 - accuracy: 0.4432\n",
      "Epoch 52/300\n",
      "25/25 [==============================] - 0s 3ms/step - loss: 1.2929 - accuracy: 0.4672\n",
      "Epoch 53/300\n",
      "25/25 [==============================] - 0s 2ms/step - loss: 1.2825 - accuracy: 0.4798\n",
      "Epoch 54/300\n",
      "25/25 [==============================] - 0s 4ms/step - loss: 1.3371 - accuracy: 0.4646\n",
      "Epoch 55/300\n",
      "25/25 [==============================] - 0s 4ms/step - loss: 1.2640 - accuracy: 0.4659\n",
      "Epoch 56/300\n",
      "25/25 [==============================] - 0s 3ms/step - loss: 1.2628 - accuracy: 0.4861\n",
      "Epoch 57/300\n",
      "25/25 [==============================] - 0s 5ms/step - loss: 1.2333 - accuracy: 0.4722\n",
      "Epoch 58/300\n",
      "25/25 [==============================] - 0s 6ms/step - loss: 1.2291 - accuracy: 0.5051\n",
      "Epoch 59/300\n",
      "25/25 [==============================] - 0s 4ms/step - loss: 1.2150 - accuracy: 0.4848\n",
      "Epoch 60/300\n",
      "25/25 [==============================] - 0s 4ms/step - loss: 1.2027 - accuracy: 0.4987\n",
      "Epoch 61/300\n",
      "25/25 [==============================] - 0s 5ms/step - loss: 1.1828 - accuracy: 0.5025\n",
      "Epoch 62/300\n",
      "25/25 [==============================] - 0s 4ms/step - loss: 1.1782 - accuracy: 0.4861\n",
      "Epoch 63/300\n",
      "25/25 [==============================] - 0s 4ms/step - loss: 1.1717 - accuracy: 0.5101\n",
      "Epoch 64/300\n",
      "25/25 [==============================] - 0s 8ms/step - loss: 1.1273 - accuracy: 0.5215\n",
      "Epoch 65/300\n",
      "25/25 [==============================] - 0s 6ms/step - loss: 1.1295 - accuracy: 0.5215\n",
      "Epoch 66/300\n",
      "25/25 [==============================] - 0s 4ms/step - loss: 1.1096 - accuracy: 0.5177\n",
      "Epoch 67/300\n",
      "25/25 [==============================] - 0s 4ms/step - loss: 1.1395 - accuracy: 0.5278\n",
      "Epoch 68/300\n",
      "25/25 [==============================] - 0s 5ms/step - loss: 1.1459 - accuracy: 0.5177\n",
      "Epoch 69/300\n",
      "25/25 [==============================] - 0s 9ms/step - loss: 1.1613 - accuracy: 0.5088\n",
      "Epoch 70/300\n",
      "25/25 [==============================] - 0s 6ms/step - loss: 1.1216 - accuracy: 0.5152\n",
      "Epoch 71/300\n",
      "25/25 [==============================] - 0s 9ms/step - loss: 1.1370 - accuracy: 0.5152\n",
      "Epoch 72/300\n",
      "25/25 [==============================] - 0s 6ms/step - loss: 1.1306 - accuracy: 0.5063\n",
      "Epoch 73/300\n",
      "25/25 [==============================] - 0s 6ms/step - loss: 1.1672 - accuracy: 0.5114\n",
      "Epoch 74/300\n",
      "25/25 [==============================] - 0s 4ms/step - loss: 1.1729 - accuracy: 0.5013\n",
      "Epoch 75/300\n",
      "25/25 [==============================] - 0s 7ms/step - loss: 1.1176 - accuracy: 0.5253\n",
      "Epoch 76/300\n",
      "25/25 [==============================] - 0s 18ms/step - loss: 1.1229 - accuracy: 0.5379\n",
      "Epoch 77/300\n",
      "25/25 [==============================] - 0s 4ms/step - loss: 1.1219 - accuracy: 0.5290\n",
      "Epoch 78/300\n",
      "25/25 [==============================] - 0s 5ms/step - loss: 1.0844 - accuracy: 0.5442\n",
      "Epoch 79/300\n",
      "25/25 [==============================] - 0s 8ms/step - loss: 1.0635 - accuracy: 0.5505\n",
      "Epoch 80/300\n",
      "25/25 [==============================] - 0s 6ms/step - loss: 1.0980 - accuracy: 0.5253\n",
      "Epoch 81/300\n",
      "25/25 [==============================] - 0s 9ms/step - loss: 1.0889 - accuracy: 0.5328\n",
      "Epoch 82/300\n",
      "25/25 [==============================] - 0s 6ms/step - loss: 1.0722 - accuracy: 0.5379\n",
      "Epoch 83/300\n"
     ]
    },
    {
     "name": "stdout",
     "output_type": "stream",
     "text": [
      "25/25 [==============================] - 0s 5ms/step - loss: 1.0431 - accuracy: 0.5518\n",
      "Epoch 84/300\n",
      "25/25 [==============================] - 0s 4ms/step - loss: 1.1185 - accuracy: 0.5139\n",
      "Epoch 85/300\n",
      "25/25 [==============================] - 0s 6ms/step - loss: 1.0534 - accuracy: 0.5455\n",
      "Epoch 86/300\n",
      "25/25 [==============================] - 0s 5ms/step - loss: 1.0415 - accuracy: 0.5505\n",
      "Epoch 87/300\n",
      "25/25 [==============================] - 0s 4ms/step - loss: 1.0296 - accuracy: 0.5581\n",
      "Epoch 88/300\n",
      "25/25 [==============================] - 0s 5ms/step - loss: 1.0229 - accuracy: 0.5505\n",
      "Epoch 89/300\n",
      "25/25 [==============================] - 0s 16ms/step - loss: 1.0029 - accuracy: 0.5682\n",
      "Epoch 90/300\n",
      "25/25 [==============================] - 0s 9ms/step - loss: 1.0321 - accuracy: 0.5467\n",
      "Epoch 91/300\n",
      "25/25 [==============================] - 0s 4ms/step - loss: 1.0318 - accuracy: 0.5619\n",
      "Epoch 92/300\n",
      "25/25 [==============================] - 0s 4ms/step - loss: 1.0072 - accuracy: 0.5833\n",
      "Epoch 93/300\n",
      "25/25 [==============================] - 0s 4ms/step - loss: 1.0154 - accuracy: 0.5492\n",
      "Epoch 94/300\n",
      "25/25 [==============================] - 0s 5ms/step - loss: 0.9986 - accuracy: 0.5808\n",
      "Epoch 95/300\n",
      "25/25 [==============================] - 0s 4ms/step - loss: 1.0123 - accuracy: 0.5657\n",
      "Epoch 96/300\n",
      "25/25 [==============================] - 0s 4ms/step - loss: 0.9911 - accuracy: 0.5619\n",
      "Epoch 97/300\n",
      "25/25 [==============================] - 0s 4ms/step - loss: 0.9741 - accuracy: 0.5745\n",
      "Epoch 98/300\n",
      "25/25 [==============================] - 0s 11ms/step - loss: 0.9673 - accuracy: 0.5846\n",
      "Epoch 99/300\n",
      "25/25 [==============================] - 0s 8ms/step - loss: 0.9675 - accuracy: 0.5720\n",
      "Epoch 100/300\n",
      "25/25 [==============================] - 0s 7ms/step - loss: 1.0014 - accuracy: 0.5783\n",
      "Epoch 101/300\n",
      "25/25 [==============================] - 0s 10ms/step - loss: 1.0030 - accuracy: 0.5606\n",
      "Epoch 102/300\n",
      "25/25 [==============================] - 0s 5ms/step - loss: 0.9725 - accuracy: 0.5732\n",
      "Epoch 103/300\n",
      "25/25 [==============================] - 0s 6ms/step - loss: 0.9624 - accuracy: 0.5833\n",
      "Epoch 104/300\n",
      "25/25 [==============================] - 0s 6ms/step - loss: 0.9704 - accuracy: 0.5833\n",
      "Epoch 105/300\n",
      "25/25 [==============================] - 0s 7ms/step - loss: 0.9546 - accuracy: 0.5909\n",
      "Epoch 106/300\n",
      "25/25 [==============================] - 0s 8ms/step - loss: 0.9834 - accuracy: 0.5694\n",
      "Epoch 107/300\n",
      "25/25 [==============================] - 0s 7ms/step - loss: 1.0727 - accuracy: 0.5442\n",
      "Epoch 108/300\n",
      "25/25 [==============================] - 0s 7ms/step - loss: 1.0243 - accuracy: 0.5568\n",
      "Epoch 109/300\n",
      "25/25 [==============================] - 0s 5ms/step - loss: 0.9668 - accuracy: 0.5770\n",
      "Epoch 110/300\n",
      "25/25 [==============================] - 0s 10ms/step - loss: 0.9371 - accuracy: 0.5884\n",
      "Epoch 111/300\n",
      "25/25 [==============================] - 0s 5ms/step - loss: 0.9272 - accuracy: 0.5985\n",
      "Epoch 112/300\n",
      "25/25 [==============================] - 0s 4ms/step - loss: 0.9250 - accuracy: 0.5922\n",
      "Epoch 113/300\n",
      "25/25 [==============================] - 0s 5ms/step - loss: 0.9541 - accuracy: 0.5833\n",
      "Epoch 114/300\n",
      "25/25 [==============================] - 0s 4ms/step - loss: 0.9243 - accuracy: 0.6073\n",
      "Epoch 115/300\n",
      "25/25 [==============================] - 0s 6ms/step - loss: 0.9168 - accuracy: 0.6010\n",
      "Epoch 116/300\n",
      "25/25 [==============================] - 0s 4ms/step - loss: 0.9536 - accuracy: 0.5783\n",
      "Epoch 117/300\n",
      "25/25 [==============================] - 0s 4ms/step - loss: 0.9543 - accuracy: 0.5783\n",
      "Epoch 118/300\n",
      "25/25 [==============================] - 0s 4ms/step - loss: 0.9213 - accuracy: 0.5972\n",
      "Epoch 119/300\n",
      "25/25 [==============================] - 0s 5ms/step - loss: 0.8911 - accuracy: 0.6225\n",
      "Epoch 120/300\n",
      "25/25 [==============================] - 0s 7ms/step - loss: 0.8948 - accuracy: 0.6098\n",
      "Epoch 121/300\n",
      "25/25 [==============================] - 0s 4ms/step - loss: 0.9003 - accuracy: 0.6199\n",
      "Epoch 122/300\n",
      "25/25 [==============================] - 0s 4ms/step - loss: 0.9586 - accuracy: 0.5846\n",
      "Epoch 123/300\n",
      "25/25 [==============================] - 0s 5ms/step - loss: 0.9100 - accuracy: 0.6035\n",
      "Epoch 124/300\n",
      "25/25 [==============================] - 0s 7ms/step - loss: 0.9581 - accuracy: 0.5682\n",
      "Epoch 125/300\n",
      "25/25 [==============================] - 0s 7ms/step - loss: 0.9250 - accuracy: 0.5770\n",
      "Epoch 126/300\n",
      "25/25 [==============================] - 0s 6ms/step - loss: 0.8744 - accuracy: 0.6225\n",
      "Epoch 127/300\n",
      "25/25 [==============================] - 0s 11ms/step - loss: 0.8755 - accuracy: 0.6199\n",
      "Epoch 128/300\n",
      "25/25 [==============================] - 0s 9ms/step - loss: 0.9043 - accuracy: 0.6048\n",
      "Epoch 129/300\n",
      "25/25 [==============================] - 0s 5ms/step - loss: 0.8837 - accuracy: 0.6136\n",
      "Epoch 130/300\n",
      "25/25 [==============================] - 0s 8ms/step - loss: 0.8864 - accuracy: 0.6124\n",
      "Epoch 131/300\n",
      "25/25 [==============================] - 0s 7ms/step - loss: 0.9663 - accuracy: 0.5808\n",
      "Epoch 132/300\n",
      "25/25 [==============================] - 0s 5ms/step - loss: 0.9463 - accuracy: 0.6010\n",
      "Epoch 133/300\n",
      "25/25 [==============================] - 0s 8ms/step - loss: 1.0067 - accuracy: 0.5720\n",
      "Epoch 134/300\n",
      "25/25 [==============================] - 0s 6ms/step - loss: 0.8728 - accuracy: 0.6313\n",
      "Epoch 135/300\n",
      "25/25 [==============================] - 0s 5ms/step - loss: 0.8581 - accuracy: 0.6275\n",
      "Epoch 136/300\n",
      "25/25 [==============================] - 0s 6ms/step - loss: 0.8992 - accuracy: 0.6250\n",
      "Epoch 137/300\n",
      "25/25 [==============================] - 0s 5ms/step - loss: 0.8694 - accuracy: 0.6237\n",
      "Epoch 138/300\n",
      "25/25 [==============================] - 0s 8ms/step - loss: 0.8739 - accuracy: 0.6275\n",
      "Epoch 139/300\n",
      "25/25 [==============================] - 0s 6ms/step - loss: 0.8762 - accuracy: 0.6136\n",
      "Epoch 140/300\n",
      "25/25 [==============================] - 0s 4ms/step - loss: 0.8543 - accuracy: 0.6427\n",
      "Epoch 141/300\n",
      "25/25 [==============================] - 0s 4ms/step - loss: 0.8442 - accuracy: 0.6326\n",
      "Epoch 142/300\n",
      "25/25 [==============================] - 0s 6ms/step - loss: 0.8660 - accuracy: 0.6326\n",
      "Epoch 143/300\n",
      "25/25 [==============================] - 0s 5ms/step - loss: 0.8365 - accuracy: 0.6465\n",
      "Epoch 144/300\n",
      "25/25 [==============================] - 0s 7ms/step - loss: 0.8481 - accuracy: 0.6439\n",
      "Epoch 145/300\n",
      "25/25 [==============================] - 0s 8ms/step - loss: 0.8713 - accuracy: 0.6313\n",
      "Epoch 146/300\n",
      "25/25 [==============================] - 0s 7ms/step - loss: 0.8510 - accuracy: 0.6439\n",
      "Epoch 147/300\n",
      "25/25 [==============================] - 0s 6ms/step - loss: 0.8639 - accuracy: 0.6338\n",
      "Epoch 148/300\n",
      "25/25 [==============================] - 0s 6ms/step - loss: 0.8202 - accuracy: 0.6515\n",
      "Epoch 149/300\n",
      "25/25 [==============================] - 0s 7ms/step - loss: 0.8111 - accuracy: 0.6490\n",
      "Epoch 150/300\n",
      "25/25 [==============================] - 0s 6ms/step - loss: 0.8170 - accuracy: 0.6578\n",
      "Epoch 151/300\n",
      "25/25 [==============================] - 0s 5ms/step - loss: 0.7912 - accuracy: 0.6755\n",
      "Epoch 152/300\n",
      "25/25 [==============================] - 0s 5ms/step - loss: 0.8228 - accuracy: 0.6364\n",
      "Epoch 153/300\n",
      "25/25 [==============================] - 0s 15ms/step - loss: 0.8448 - accuracy: 0.6288\n",
      "Epoch 154/300\n",
      "25/25 [==============================] - 0s 16ms/step - loss: 0.8972 - accuracy: 0.5997\n",
      "Epoch 155/300\n",
      "25/25 [==============================] - 0s 5ms/step - loss: 0.8038 - accuracy: 0.6465\n",
      "Epoch 156/300\n",
      "25/25 [==============================] - 0s 17ms/step - loss: 0.8310 - accuracy: 0.6553\n",
      "Epoch 157/300\n",
      "25/25 [==============================] - 0s 17ms/step - loss: 0.7989 - accuracy: 0.6578\n",
      "Epoch 158/300\n",
      "25/25 [==============================] - 0s 3ms/step - loss: 0.7781 - accuracy: 0.6717\n",
      "Epoch 159/300\n",
      "25/25 [==============================] - 0s 6ms/step - loss: 0.8178 - accuracy: 0.6540\n",
      "Epoch 160/300\n",
      "25/25 [==============================] - 0s 6ms/step - loss: 0.8043 - accuracy: 0.6515\n",
      "Epoch 161/300\n",
      "25/25 [==============================] - 0s 7ms/step - loss: 0.8153 - accuracy: 0.6578\n",
      "Epoch 162/300\n",
      "25/25 [==============================] - 0s 10ms/step - loss: 0.8228 - accuracy: 0.6452\n",
      "Epoch 163/300\n",
      "25/25 [==============================] - 0s 7ms/step - loss: 0.7868 - accuracy: 0.6831\n",
      "Epoch 164/300\n",
      "25/25 [==============================] - 0s 5ms/step - loss: 0.7659 - accuracy: 0.6742\n",
      "Epoch 165/300\n",
      "25/25 [==============================] - 0s 3ms/step - loss: 0.7699 - accuracy: 0.6705\n",
      "Epoch 166/300\n",
      "25/25 [==============================] - 0s 5ms/step - loss: 0.7788 - accuracy: 0.6641\n",
      "Epoch 167/300\n",
      "25/25 [==============================] - 0s 7ms/step - loss: 0.8391 - accuracy: 0.6389\n",
      "Epoch 168/300\n",
      "25/25 [==============================] - 0s 4ms/step - loss: 0.7570 - accuracy: 0.7008\n",
      "Epoch 169/300\n",
      "25/25 [==============================] - 0s 4ms/step - loss: 0.7840 - accuracy: 0.6667\n",
      "Epoch 170/300\n",
      "25/25 [==============================] - 0s 5ms/step - loss: 0.7932 - accuracy: 0.6616\n",
      "Epoch 171/300\n",
      "25/25 [==============================] - 0s 4ms/step - loss: 0.7571 - accuracy: 0.6768\n",
      "Epoch 172/300\n",
      "25/25 [==============================] - 0s 4ms/step - loss: 0.7481 - accuracy: 0.6957\n",
      "Epoch 173/300\n",
      "25/25 [==============================] - 0s 4ms/step - loss: 0.7341 - accuracy: 0.7058\n",
      "Epoch 174/300\n",
      "25/25 [==============================] - 0s 4ms/step - loss: 0.7362 - accuracy: 0.6907\n",
      "Epoch 175/300\n",
      "25/25 [==============================] - 0s 4ms/step - loss: 0.7839 - accuracy: 0.6654\n",
      "Epoch 176/300\n",
      "25/25 [==============================] - 0s 6ms/step - loss: 0.7962 - accuracy: 0.6629\n",
      "Epoch 177/300\n",
      "25/25 [==============================] - 0s 6ms/step - loss: 0.7207 - accuracy: 0.7033\n",
      "Epoch 178/300\n",
      "25/25 [==============================] - 0s 4ms/step - loss: 0.7285 - accuracy: 0.6843\n",
      "Epoch 179/300\n",
      "25/25 [==============================] - 0s 5ms/step - loss: 0.7683 - accuracy: 0.6818\n",
      "Epoch 180/300\n",
      "25/25 [==============================] - 0s 5ms/step - loss: 0.7724 - accuracy: 0.6667\n",
      "Epoch 181/300\n",
      "25/25 [==============================] - 0s 3ms/step - loss: 0.8041 - accuracy: 0.6515\n",
      "Epoch 182/300\n",
      "25/25 [==============================] - 0s 3ms/step - loss: 0.7839 - accuracy: 0.6604\n",
      "Epoch 183/300\n",
      "25/25 [==============================] - 0s 3ms/step - loss: 0.7225 - accuracy: 0.6907\n",
      "Epoch 184/300\n",
      "25/25 [==============================] - 0s 2ms/step - loss: 0.7202 - accuracy: 0.6995\n",
      "Epoch 185/300\n",
      "25/25 [==============================] - 0s 3ms/step - loss: 0.7405 - accuracy: 0.6793\n",
      "Epoch 186/300\n",
      "25/25 [==============================] - 0s 6ms/step - loss: 0.7066 - accuracy: 0.7146\n",
      "Epoch 187/300\n",
      "25/25 [==============================] - 0s 5ms/step - loss: 0.7352 - accuracy: 0.6957\n",
      "Epoch 188/300\n",
      "25/25 [==============================] - 0s 4ms/step - loss: 0.7366 - accuracy: 0.6881\n",
      "Epoch 189/300\n",
      "25/25 [==============================] - 0s 3ms/step - loss: 0.7416 - accuracy: 0.6818\n",
      "Epoch 190/300\n",
      "25/25 [==============================] - 0s 4ms/step - loss: 0.7061 - accuracy: 0.7058\n",
      "Epoch 191/300\n",
      "25/25 [==============================] - 0s 4ms/step - loss: 0.6744 - accuracy: 0.7197\n",
      "Epoch 192/300\n",
      "25/25 [==============================] - 0s 5ms/step - loss: 0.6762 - accuracy: 0.7071\n",
      "Epoch 193/300\n",
      "25/25 [==============================] - 0s 5ms/step - loss: 0.6599 - accuracy: 0.7184\n",
      "Epoch 194/300\n",
      "25/25 [==============================] - 0s 4ms/step - loss: 0.7235 - accuracy: 0.6843\n",
      "Epoch 195/300\n",
      "25/25 [==============================] - 0s 6ms/step - loss: 0.7388 - accuracy: 0.6843\n",
      "Epoch 196/300\n",
      "25/25 [==============================] - 0s 5ms/step - loss: 0.7763 - accuracy: 0.6793\n",
      "Epoch 197/300\n",
      "25/25 [==============================] - 0s 6ms/step - loss: 0.6886 - accuracy: 0.7146\n",
      "Epoch 198/300\n",
      "25/25 [==============================] - 0s 5ms/step - loss: 0.6935 - accuracy: 0.7197\n",
      "Epoch 199/300\n",
      "25/25 [==============================] - 0s 8ms/step - loss: 0.7845 - accuracy: 0.6553\n",
      "Epoch 200/300\n",
      "25/25 [==============================] - 0s 6ms/step - loss: 0.6719 - accuracy: 0.7134\n",
      "Epoch 201/300\n",
      "25/25 [==============================] - 0s 8ms/step - loss: 0.6986 - accuracy: 0.7020\n",
      "Epoch 202/300\n",
      "25/25 [==============================] - 0s 8ms/step - loss: 0.6871 - accuracy: 0.7008\n",
      "Epoch 203/300\n",
      "25/25 [==============================] - 0s 8ms/step - loss: 0.9776 - accuracy: 0.5985\n",
      "Epoch 204/300\n",
      "25/25 [==============================] - 0s 8ms/step - loss: 0.8461 - accuracy: 0.6364\n",
      "Epoch 205/300\n",
      "25/25 [==============================] - 0s 11ms/step - loss: 0.6845 - accuracy: 0.7121\n",
      "Epoch 206/300\n",
      "25/25 [==============================] - 0s 6ms/step - loss: 0.6725 - accuracy: 0.7197\n",
      "Epoch 207/300\n",
      "25/25 [==============================] - 0s 7ms/step - loss: 0.6436 - accuracy: 0.7260\n",
      "Epoch 208/300\n",
      "25/25 [==============================] - 0s 7ms/step - loss: 0.7030 - accuracy: 0.6982\n",
      "Epoch 209/300\n",
      "25/25 [==============================] - 0s 7ms/step - loss: 0.7223 - accuracy: 0.6793\n",
      "Epoch 210/300\n",
      "25/25 [==============================] - 0s 6ms/step - loss: 0.6915 - accuracy: 0.6970\n",
      "Epoch 211/300\n",
      "25/25 [==============================] - 0s 5ms/step - loss: 0.7084 - accuracy: 0.7033\n",
      "Epoch 212/300\n",
      "25/25 [==============================] - 0s 3ms/step - loss: 0.6739 - accuracy: 0.7247\n",
      "Epoch 213/300\n",
      "25/25 [==============================] - 0s 4ms/step - loss: 0.6730 - accuracy: 0.7159\n",
      "Epoch 214/300\n",
      "25/25 [==============================] - 0s 5ms/step - loss: 0.6472 - accuracy: 0.7159\n",
      "Epoch 215/300\n",
      "25/25 [==============================] - 0s 5ms/step - loss: 0.6230 - accuracy: 0.7348\n",
      "Epoch 216/300\n",
      "25/25 [==============================] - 0s 12ms/step - loss: 0.6995 - accuracy: 0.6982\n",
      "Epoch 217/300\n",
      "25/25 [==============================] - 0s 5ms/step - loss: 0.6827 - accuracy: 0.6957\n",
      "Epoch 218/300\n",
      "25/25 [==============================] - 0s 5ms/step - loss: 0.6369 - accuracy: 0.7222\n",
      "Epoch 219/300\n",
      "25/25 [==============================] - 0s 9ms/step - loss: 0.6155 - accuracy: 0.7273\n",
      "Epoch 220/300\n",
      "25/25 [==============================] - 0s 6ms/step - loss: 0.6433 - accuracy: 0.7336\n",
      "Epoch 221/300\n",
      "25/25 [==============================] - 0s 7ms/step - loss: 0.6915 - accuracy: 0.7058\n",
      "Epoch 222/300\n",
      "25/25 [==============================] - 0s 6ms/step - loss: 0.6268 - accuracy: 0.7172\n",
      "Epoch 223/300\n",
      "25/25 [==============================] - 0s 7ms/step - loss: 0.6525 - accuracy: 0.7134\n",
      "Epoch 224/300\n",
      "25/25 [==============================] - 0s 6ms/step - loss: 0.6155 - accuracy: 0.7298\n",
      "Epoch 225/300\n",
      "25/25 [==============================] - 0s 5ms/step - loss: 0.6195 - accuracy: 0.7437\n",
      "Epoch 226/300\n",
      "25/25 [==============================] - 0s 5ms/step - loss: 0.6245 - accuracy: 0.7210\n",
      "Epoch 227/300\n",
      "25/25 [==============================] - 0s 6ms/step - loss: 0.6029 - accuracy: 0.7462\n",
      "Epoch 228/300\n",
      "25/25 [==============================] - 0s 9ms/step - loss: 0.6664 - accuracy: 0.7121\n",
      "Epoch 229/300\n",
      "25/25 [==============================] - 0s 7ms/step - loss: 0.6552 - accuracy: 0.7134\n",
      "Epoch 230/300\n",
      "25/25 [==============================] - 0s 5ms/step - loss: 0.6171 - accuracy: 0.7399\n",
      "Epoch 231/300\n",
      "25/25 [==============================] - 0s 8ms/step - loss: 0.6082 - accuracy: 0.7513\n",
      "Epoch 232/300\n",
      "25/25 [==============================] - 0s 10ms/step - loss: 0.6162 - accuracy: 0.7361\n",
      "Epoch 233/300\n",
      "25/25 [==============================] - 0s 10ms/step - loss: 0.6280 - accuracy: 0.7437\n",
      "Epoch 234/300\n",
      "25/25 [==============================] - 0s 7ms/step - loss: 0.6640 - accuracy: 0.7083\n",
      "Epoch 235/300\n",
      "25/25 [==============================] - 0s 5ms/step - loss: 0.6333 - accuracy: 0.7285\n",
      "Epoch 236/300\n",
      "25/25 [==============================] - 0s 6ms/step - loss: 0.5800 - accuracy: 0.7525\n",
      "Epoch 237/300\n",
      "25/25 [==============================] - 0s 5ms/step - loss: 0.5683 - accuracy: 0.7563\n",
      "Epoch 238/300\n",
      "25/25 [==============================] - 0s 5ms/step - loss: 0.5787 - accuracy: 0.7538\n",
      "Epoch 239/300\n",
      "25/25 [==============================] - 0s 6ms/step - loss: 0.6814 - accuracy: 0.7008\n",
      "Epoch 240/300\n",
      "25/25 [==============================] - 0s 6ms/step - loss: 0.6536 - accuracy: 0.7033\n",
      "Epoch 241/300\n",
      "25/25 [==============================] - 0s 8ms/step - loss: 0.6104 - accuracy: 0.7449\n",
      "Epoch 242/300\n",
      "25/25 [==============================] - 0s 7ms/step - loss: 0.6174 - accuracy: 0.7412\n",
      "Epoch 243/300\n",
      "25/25 [==============================] - 0s 5ms/step - loss: 0.6582 - accuracy: 0.7273\n",
      "Epoch 244/300\n",
      "25/25 [==============================] - 0s 3ms/step - loss: 0.6393 - accuracy: 0.7374\n",
      "Epoch 245/300\n"
     ]
    },
    {
     "name": "stdout",
     "output_type": "stream",
     "text": [
      "25/25 [==============================] - 0s 6ms/step - loss: 0.6213 - accuracy: 0.7336\n",
      "Epoch 246/300\n",
      "25/25 [==============================] - 0s 5ms/step - loss: 0.8086 - accuracy: 0.6755\n",
      "Epoch 247/300\n",
      "25/25 [==============================] - 0s 5ms/step - loss: 0.8721 - accuracy: 0.6402\n",
      "Epoch 248/300\n",
      "25/25 [==============================] - 0s 4ms/step - loss: 0.6330 - accuracy: 0.7197\n",
      "Epoch 249/300\n",
      "25/25 [==============================] - 0s 4ms/step - loss: 0.5715 - accuracy: 0.7576\n",
      "Epoch 250/300\n",
      "25/25 [==============================] - 0s 4ms/step - loss: 0.5867 - accuracy: 0.7462\n",
      "Epoch 251/300\n",
      "25/25 [==============================] - 0s 5ms/step - loss: 0.5645 - accuracy: 0.7652\n",
      "Epoch 252/300\n",
      "25/25 [==============================] - 0s 12ms/step - loss: 0.6384 - accuracy: 0.7424\n",
      "Epoch 253/300\n",
      "25/25 [==============================] - 0s 6ms/step - loss: 0.6704 - accuracy: 0.7008\n",
      "Epoch 254/300\n",
      "25/25 [==============================] - 0s 4ms/step - loss: 0.6575 - accuracy: 0.7083\n",
      "Epoch 255/300\n",
      "25/25 [==============================] - 0s 5ms/step - loss: 0.5605 - accuracy: 0.7626\n",
      "Epoch 256/300\n",
      "25/25 [==============================] - 0s 6ms/step - loss: 0.5508 - accuracy: 0.7677\n",
      "Epoch 257/300\n",
      "25/25 [==============================] - 0s 8ms/step - loss: 0.5684 - accuracy: 0.7487\n",
      "Epoch 258/300\n",
      "25/25 [==============================] - 0s 9ms/step - loss: 0.5745 - accuracy: 0.7513\n",
      "Epoch 259/300\n",
      "25/25 [==============================] - 0s 11ms/step - loss: 0.5562 - accuracy: 0.7576\n",
      "Epoch 260/300\n",
      "25/25 [==============================] - 0s 6ms/step - loss: 0.5451 - accuracy: 0.7677\n",
      "Epoch 261/300\n",
      "25/25 [==============================] - 0s 5ms/step - loss: 0.5433 - accuracy: 0.7740\n",
      "Epoch 262/300\n",
      "25/25 [==============================] - 0s 5ms/step - loss: 0.6245 - accuracy: 0.7235\n",
      "Epoch 263/300\n",
      "25/25 [==============================] - 0s 4ms/step - loss: 0.5386 - accuracy: 0.7727\n",
      "Epoch 264/300\n",
      "25/25 [==============================] - 0s 6ms/step - loss: 0.5558 - accuracy: 0.7626\n",
      "Epoch 265/300\n",
      "25/25 [==============================] - 0s 8ms/step - loss: 0.5687 - accuracy: 0.7475\n",
      "Epoch 266/300\n",
      "25/25 [==============================] - 0s 6ms/step - loss: 0.5390 - accuracy: 0.7652\n",
      "Epoch 267/300\n",
      "25/25 [==============================] - 0s 6ms/step - loss: 0.5639 - accuracy: 0.7588\n",
      "Epoch 268/300\n",
      "25/25 [==============================] - 0s 19ms/step - loss: 0.5311 - accuracy: 0.7715\n",
      "Epoch 269/300\n",
      "25/25 [==============================] - 0s 6ms/step - loss: 0.5503 - accuracy: 0.7588\n",
      "Epoch 270/300\n",
      "25/25 [==============================] - 0s 5ms/step - loss: 0.5621 - accuracy: 0.7664\n",
      "Epoch 271/300\n",
      "25/25 [==============================] - 0s 10ms/step - loss: 0.5348 - accuracy: 0.7639\n",
      "Epoch 272/300\n",
      "25/25 [==============================] - 0s 5ms/step - loss: 0.5456 - accuracy: 0.7778\n",
      "Epoch 273/300\n",
      "25/25 [==============================] - 0s 6ms/step - loss: 0.5942 - accuracy: 0.7563\n",
      "Epoch 274/300\n",
      "25/25 [==============================] - 0s 6ms/step - loss: 0.5968 - accuracy: 0.7513\n",
      "Epoch 275/300\n",
      "25/25 [==============================] - 0s 4ms/step - loss: 0.5033 - accuracy: 0.7790\n",
      "Epoch 276/300\n",
      "25/25 [==============================] - 0s 5ms/step - loss: 0.5114 - accuracy: 0.7816\n",
      "Epoch 277/300\n",
      "25/25 [==============================] - 0s 5ms/step - loss: 0.5299 - accuracy: 0.7727\n",
      "Epoch 278/300\n",
      "25/25 [==============================] - 0s 7ms/step - loss: 0.5006 - accuracy: 0.7765\n",
      "Epoch 279/300\n",
      "25/25 [==============================] - 0s 6ms/step - loss: 0.5087 - accuracy: 0.7803\n",
      "Epoch 280/300\n",
      "25/25 [==============================] - 0s 5ms/step - loss: 0.5137 - accuracy: 0.7828\n",
      "Epoch 281/300\n",
      "25/25 [==============================] - 0s 8ms/step - loss: 0.5306 - accuracy: 0.7715\n",
      "Epoch 282/300\n",
      "25/25 [==============================] - 0s 6ms/step - loss: 0.5316 - accuracy: 0.7790\n",
      "Epoch 283/300\n",
      "25/25 [==============================] - 0s 7ms/step - loss: 0.5992 - accuracy: 0.7462\n",
      "Epoch 284/300\n",
      "25/25 [==============================] - 0s 7ms/step - loss: 0.5445 - accuracy: 0.7652\n",
      "Epoch 285/300\n",
      "25/25 [==============================] - 0s 5ms/step - loss: 0.5231 - accuracy: 0.7664\n",
      "Epoch 286/300\n",
      "25/25 [==============================] - 0s 6ms/step - loss: 0.5064 - accuracy: 0.7753\n",
      "Epoch 287/300\n",
      "25/25 [==============================] - 0s 5ms/step - loss: 0.5245 - accuracy: 0.7639\n",
      "Epoch 288/300\n",
      "25/25 [==============================] - 0s 7ms/step - loss: 0.5224 - accuracy: 0.7790\n",
      "Epoch 289/300\n",
      "25/25 [==============================] - 0s 5ms/step - loss: 0.5610 - accuracy: 0.7677\n",
      "Epoch 290/300\n",
      "25/25 [==============================] - 0s 5ms/step - loss: 0.5524 - accuracy: 0.7588\n",
      "Epoch 291/300\n",
      "25/25 [==============================] - 0s 7ms/step - loss: 0.5852 - accuracy: 0.7437\n",
      "Epoch 292/300\n",
      "25/25 [==============================] - 0s 8ms/step - loss: 0.6089 - accuracy: 0.7525\n",
      "Epoch 293/300\n",
      "25/25 [==============================] - 0s 6ms/step - loss: 0.5902 - accuracy: 0.7386\n",
      "Epoch 294/300\n",
      "25/25 [==============================] - 0s 4ms/step - loss: 0.5286 - accuracy: 0.7765\n",
      "Epoch 295/300\n",
      "25/25 [==============================] - 0s 5ms/step - loss: 0.5093 - accuracy: 0.7917\n",
      "Epoch 296/300\n",
      "25/25 [==============================] - 0s 6ms/step - loss: 0.4749 - accuracy: 0.8005\n",
      "Epoch 297/300\n",
      "25/25 [==============================] - 1s 21ms/step - loss: 0.5223 - accuracy: 0.7727\n",
      "Epoch 298/300\n",
      "25/25 [==============================] - 0s 9ms/step - loss: 0.5118 - accuracy: 0.7828\n",
      "Epoch 299/300\n",
      "25/25 [==============================] - 0s 6ms/step - loss: 0.4663 - accuracy: 0.8056\n",
      "Epoch 300/300\n",
      "25/25 [==============================] - 0s 5ms/step - loss: 0.4941 - accuracy: 0.7967\n"
     ]
    },
    {
     "data": {
      "text/plain": [
       "<tensorflow.python.keras.callbacks.History at 0x7ff13d4e8a30>"
      ]
     },
     "execution_count": 311,
     "metadata": {},
     "output_type": "execute_result"
    }
   ],
   "source": [
    "network.fit(x_train, y_train, epochs=300, batch_size=32)\n"
   ]
  },
  {
   "cell_type": "code",
   "execution_count": 313,
   "metadata": {},
   "outputs": [],
   "source": [
    "test = x_test[0].T"
   ]
  },
  {
   "cell_type": "code",
   "execution_count": 314,
   "metadata": {},
   "outputs": [
    {
     "data": {
      "text/plain": [
       "(180,)"
      ]
     },
     "execution_count": 314,
     "metadata": {},
     "output_type": "execute_result"
    }
   ],
   "source": [
    "test.shape"
   ]
  },
  {
   "cell_type": "code",
   "execution_count": 315,
   "metadata": {},
   "outputs": [
    {
     "name": "stdout",
     "output_type": "stream",
     "text": [
      "There are 192 files with happy emotion\n",
      "There are 192 files with angry emotion\n",
      "There are 192 files with sad emotion\n",
      "There are 192 files with fearful emotion\n",
      "There are 192 files with calm emotion\n",
      "There are 96 files with neutral emotion\n"
     ]
    }
   ],
   "source": [
    "happy =[]\n",
    "angry = []\n",
    "sad = []\n",
    "fearful=[]\n",
    "calm=[]\n",
    "neutral=[]\n",
    "for file in glob.glob('speech-emotion-recognition-ravdess-data//Actor_*//*.wav'):\n",
    "        file_name=os.path.basename(file)\n",
    "        emotion=emotions[file_name.split(\"-\")[2]]\n",
    "        if emotion not in observed_emotions:\n",
    "            continue\n",
    "        if emotion =='happy':\n",
    "            happy.append(file)\n",
    "        elif emotion=='angry':\n",
    "            angry.append(file)\n",
    "        elif emotion=='sad':\n",
    "            sad.append(file)\n",
    "        elif emotion=='fearful':\n",
    "            fearful.append(file)\n",
    "        elif emotion=='calm':\n",
    "            calm.append(file)\n",
    "        elif emotion=='neutral':\n",
    "            neutral.append(file)\n",
    "            \n",
    "            \n",
    "print(\"There are \"+str(len(happy))+\" files with happy emotion\")\n",
    "print(\"There are \"+str(len(angry))+\" files with angry emotion\")\n",
    "print(\"There are \"+str(len(sad))+\" files with sad emotion\")\n",
    "print(\"There are \"+str(len(fearful))+\" files with fearful emotion\")\n",
    "print(\"There are \"+str(len(calm))+\" files with calm emotion\")\n",
    "print(\"There are \"+str(len(neutral))+\" files with neutral emotion\")\n"
   ]
  },
  {
   "cell_type": "markdown",
   "metadata": {},
   "source": [
    "### Get the predictions using model "
   ]
  },
  {
   "cell_type": "code",
   "execution_count": 316,
   "metadata": {},
   "outputs": [],
   "source": [
    "all_emotions={'01':'neutral', '02':'calm', '03':'happy', '04':'sad', '05':'angry', '06':'fearful', '07':'disgust', '08':'surprised'}"
   ]
  },
  {
   "cell_type": "code",
   "execution_count": 317,
   "metadata": {},
   "outputs": [
    {
     "data": {
      "text/plain": [
       "'03-01-07-02-02-01-06.wav'"
      ]
     },
     "execution_count": 317,
     "metadata": {},
     "output_type": "execute_result"
    }
   ],
   "source": [
    "file_name"
   ]
  },
  {
   "cell_type": "markdown",
   "metadata": {},
   "source": [
    "## Filename identifiers \n",
    "\n",
    "- Modality (01 = full-AV, 02 = video-only, 03 = audio-only).\n",
    "- Vocal channel (01 = speech, 02 = song).\n",
    "- Emotion (01 = neutral, 02 = calm, 03 = happy, 04 = sad, 05 = angry, 06 = fearful, 07 = disgust, 08 = surprised).\n",
    "- Emotional intensity (01 = normal, 02 = strong). NOTE: There is no strong intensity for the ‘neutral’ emotion.\n",
    "- Statement (01 = “Kids are talking by the door”, 02 = “Dogs are sitting by the door”).\n",
    "- Repetition (01 = 1st repetition, 02 = 2nd repetition).\n",
    "- Actor (01 to 24. Odd numbered actors are male, even numbered actors are female)."
   ]
  },
  {
   "cell_type": "markdown",
   "metadata": {},
   "source": [
    "### select any file having happy emotion from list happy"
   ]
  },
  {
   "cell_type": "code",
   "execution_count": 318,
   "metadata": {},
   "outputs": [
    {
     "name": "stdout",
     "output_type": "stream",
     "text": [
      "03-01-03-01-01-02-23.wav\n",
      "Actual Emotion: happy\n"
     ]
    }
   ],
   "source": [
    "file = happy[100]   ## selecting 100th file from happylist\n",
    "file_name=os.path.basename(file)\n",
    "emotion=all_emotions[file_name.split(\"-\")[2]]\n",
    "print(file_name)\n",
    "print(\"Actual Emotion:\",emotion)"
   ]
  },
  {
   "cell_type": "code",
   "execution_count": 319,
   "metadata": {},
   "outputs": [
    {
     "name": "stdout",
     "output_type": "stream",
     "text": [
      "Predicted Emotion happy\n"
     ]
    }
   ],
   "source": [
    "feat=extract_feature(file, mfcc=True, chroma=True, mel=True)\n",
    "temp = feat.reshape(1, 180)\n",
    "pred = np.argmax(network.predict(temp))\n",
    "emotions = {0:'angry',1:'calm',2:'fearful',3:'happy',4:'neutral',5:'sad'}\n",
    "print(\"Predicted Emotion \"+emotions[(pred)])"
   ]
  },
  {
   "cell_type": "code",
   "execution_count": 320,
   "metadata": {},
   "outputs": [
    {
     "data": {
      "text/plain": [
       "['happy', 'sad', 'angry', 'fearful', 'calm', 'neutral']"
      ]
     },
     "execution_count": 320,
     "metadata": {},
     "output_type": "execute_result"
    }
   ],
   "source": [
    "observed_emotions"
   ]
  },
  {
   "cell_type": "markdown",
   "metadata": {},
   "source": [
    "### select any file having sad emotion from list sad"
   ]
  },
  {
   "cell_type": "code",
   "execution_count": 321,
   "metadata": {},
   "outputs": [
    {
     "name": "stdout",
     "output_type": "stream",
     "text": [
      "03-01-04-02-01-01-08.wav\n",
      "Actual Emotion: sad\n"
     ]
    }
   ],
   "source": [
    "file = sad[60]                                      ## selecting 50th file from sadlist\n",
    "file_name=os.path.basename(file)\n",
    "emotion=all_emotions[file_name.split(\"-\")[2]]\n",
    "print(file_name)\n",
    "print(\"Actual Emotion:\",emotion)"
   ]
  },
  {
   "cell_type": "code",
   "execution_count": 322,
   "metadata": {},
   "outputs": [
    {
     "name": "stdout",
     "output_type": "stream",
     "text": [
      "Predicted Emotion fearful\n"
     ]
    }
   ],
   "source": [
    "feat=extract_feature(file, mfcc=True, chroma=True, mel=True)\n",
    "temp = feat.reshape(1, 180)\n",
    "pred = np.argmax(network.predict(temp))\n",
    "print(\"Predicted Emotion \"+emotions[(pred)])"
   ]
  },
  {
   "cell_type": "markdown",
   "metadata": {},
   "source": [
    "### select any file having angry emotion from list angry"
   ]
  },
  {
   "cell_type": "markdown",
   "metadata": {},
   "source": [
    "## INPUT FILE EMOTION"
   ]
  },
  {
   "cell_type": "code",
   "execution_count": 323,
   "metadata": {},
   "outputs": [
    {
     "name": "stdout",
     "output_type": "stream",
     "text": [
      "03-01-05-02-01-01-16.wav\n",
      "Actual Emotion: angry\n"
     ]
    }
   ],
   "source": [
    "file = angry[75]   ## selecting 75th file from angrylist\n",
    "file_name=os.path.basename(file)\n",
    "emotion=all_emotions[file_name.split(\"-\")[2]]    ## 3rd number in the file name represent emotion \n",
    "print(file_name)\n",
    "print(\"Actual Emotion:\",emotion)"
   ]
  },
  {
   "cell_type": "markdown",
   "metadata": {},
   "source": [
    "## Angry"
   ]
  },
  {
   "cell_type": "code",
   "execution_count": 324,
   "metadata": {},
   "outputs": [],
   "source": [
    "feat=extract_feature(file, mfcc=True, chroma=True, mel=True)\n",
    "temp = feat.reshape(1, 180)"
   ]
  },
  {
   "cell_type": "markdown",
   "metadata": {},
   "source": [
    "##  PREDICTION"
   ]
  },
  {
   "cell_type": "code",
   "execution_count": 325,
   "metadata": {},
   "outputs": [
    {
     "name": "stdout",
     "output_type": "stream",
     "text": [
      "Predicted Emotion angry\n"
     ]
    }
   ],
   "source": [
    "pred = np.argmax(network.predict(temp))\n",
    "print(\"Predicted Emotion \"+emotions[(pred)])"
   ]
  },
  {
   "cell_type": "markdown",
   "metadata": {},
   "source": [
    "## OUTPUT : Angry "
   ]
  },
  {
   "cell_type": "markdown",
   "metadata": {},
   "source": [
    "### Fearful"
   ]
  },
  {
   "cell_type": "code",
   "execution_count": 326,
   "metadata": {},
   "outputs": [
    {
     "name": "stdout",
     "output_type": "stream",
     "text": [
      "03-01-06-02-01-02-16.wav\n",
      "Actual Emotion: fearful\n"
     ]
    }
   ],
   "source": [
    "file = fearful[75]   ## selecting 75th file from fearful\n",
    "file_name=os.path.basename(file)\n",
    "emotion=all_emotions[file_name.split(\"-\")[2]]    ## 3rd number in the file name represent emotion \n",
    "print(file_name)\n",
    "print(\"Actual Emotion:\",emotion)"
   ]
  },
  {
   "cell_type": "markdown",
   "metadata": {},
   "source": [
    "## Fearful"
   ]
  },
  {
   "cell_type": "code",
   "execution_count": 327,
   "metadata": {},
   "outputs": [],
   "source": [
    "feat=extract_feature(file, mfcc=True, chroma=True, mel=True)\n",
    "temp = feat.reshape(1, 180)"
   ]
  },
  {
   "cell_type": "markdown",
   "metadata": {},
   "source": [
    "##  PREDICTION"
   ]
  },
  {
   "cell_type": "code",
   "execution_count": 328,
   "metadata": {},
   "outputs": [
    {
     "name": "stdout",
     "output_type": "stream",
     "text": [
      "Predicted Emotion fearful\n"
     ]
    }
   ],
   "source": [
    "pred = np.argmax(network.predict(temp))\n",
    "print(\"Predicted Emotion \"+emotions[(pred)])"
   ]
  },
  {
   "cell_type": "markdown",
   "metadata": {},
   "source": [
    "### Calm"
   ]
  },
  {
   "cell_type": "code",
   "execution_count": 329,
   "metadata": {},
   "outputs": [
    {
     "name": "stdout",
     "output_type": "stream",
     "text": [
      "03-01-02-02-01-02-18.wav\n",
      "Actual Emotion: calm\n"
     ]
    }
   ],
   "source": [
    "file = calm[50]   ## selecting 50th file from calm\n",
    "file_name=os.path.basename(file)\n",
    "emotion=all_emotions[file_name.split(\"-\")[2]]    ## 3rd number in the file name represent emotion \n",
    "print(file_name)\n",
    "print(\"Actual Emotion:\",emotion)"
   ]
  },
  {
   "cell_type": "markdown",
   "metadata": {},
   "source": [
    "## Calm"
   ]
  },
  {
   "cell_type": "code",
   "execution_count": 330,
   "metadata": {},
   "outputs": [],
   "source": [
    "feat=extract_feature(file, mfcc=True, chroma=True, mel=True)\n",
    "temp = feat.reshape(1, 180)"
   ]
  },
  {
   "cell_type": "markdown",
   "metadata": {},
   "source": [
    "##  PREDICTION"
   ]
  },
  {
   "cell_type": "code",
   "execution_count": 331,
   "metadata": {},
   "outputs": [
    {
     "name": "stdout",
     "output_type": "stream",
     "text": [
      "Predicted Emotion calm\n"
     ]
    }
   ],
   "source": [
    "pred = np.argmax(network.predict(temp))\n",
    "print(\"Predicted Emotion \"+emotions[(pred)])"
   ]
  },
  {
   "cell_type": "markdown",
   "metadata": {},
   "source": [
    "### Neutral"
   ]
  },
  {
   "cell_type": "code",
   "execution_count": 332,
   "metadata": {},
   "outputs": [
    {
     "name": "stdout",
     "output_type": "stream",
     "text": [
      "03-01-01-01-02-02-14.wav\n",
      "Actual Emotion: neutral\n"
     ]
    }
   ],
   "source": [
    "file = neutral[40]   ## selecting 50th file from neutral\n",
    "file_name=os.path.basename(file)\n",
    "emotion=all_emotions[file_name.split(\"-\")[2]]    ## 3rd number in the file name represent emotion \n",
    "print(file_name)\n",
    "print(\"Actual Emotion:\",emotion)"
   ]
  },
  {
   "cell_type": "markdown",
   "metadata": {},
   "source": [
    "## Neutral"
   ]
  },
  {
   "cell_type": "code",
   "execution_count": 333,
   "metadata": {},
   "outputs": [],
   "source": [
    "feat=extract_feature(file, mfcc=True, chroma=True, mel=True)\n",
    "temp = feat.reshape(1, 180)"
   ]
  },
  {
   "cell_type": "markdown",
   "metadata": {},
   "source": [
    "##  PREDICTION"
   ]
  },
  {
   "cell_type": "code",
   "execution_count": 334,
   "metadata": {},
   "outputs": [
    {
     "name": "stdout",
     "output_type": "stream",
     "text": [
      "Predicted Emotion neutral\n"
     ]
    }
   ],
   "source": [
    "pred = np.argmax(network.predict(temp))\n",
    "print(\"Predicted Emotion \"+emotions[(pred)])"
   ]
  },
  {
   "cell_type": "markdown",
   "metadata": {},
   "source": [
    "we can see that our model is able to identify the emotions in the audio files"
   ]
  },
  {
   "cell_type": "markdown",
   "metadata": {},
   "source": [
    "### Testing it on the Live Audio"
   ]
  },
  {
   "cell_type": "code",
   "execution_count": 2,
   "metadata": {},
   "outputs": [],
   "source": [
    "\n",
    "import sounddevice as sd\n",
    "import soundfile as sf"
   ]
  },
  {
   "cell_type": "code",
   "execution_count": 1,
   "metadata": {},
   "outputs": [],
   "source": [
    "\n",
    "def Voice_rec():\n",
    "\tfs = 48000\n",
    "\t\n",
    "\t# seconds\n",
    "\tduration = 5\n",
    "\tmyrecording = sd.rec(int(duration * fs),\n",
    "\t\t\t\t\t\tsamplerate=fs, channels=2)\n",
    "\tsd.wait()\n",
    "\t\n",
    "\t# Save as FLAC file at correct sampling rate\n",
    "\treturn sf.write('recorder_Audio_file.wav', myrecording, fs)  # save the recording "
   ]
  },
  {
   "cell_type": "markdown",
   "metadata": {},
   "source": [
    "## Sentence 1"
   ]
  },
  {
   "cell_type": "markdown",
   "metadata": {},
   "source": [
    "\"Dogs are sitting by the door\""
   ]
  },
  {
   "cell_type": "markdown",
   "metadata": {},
   "source": [
    "## Sentence 2"
   ]
  },
  {
   "cell_type": "markdown",
   "metadata": {},
   "source": [
    "\"Kids are talking by the door\""
   ]
  },
  {
   "cell_type": "code",
   "execution_count": null,
   "metadata": {},
   "outputs": [],
   "source": [
    "Voice_rec()    ## run this cell to record voice "
   ]
  },
  {
   "cell_type": "code",
   "execution_count": null,
   "metadata": {},
   "outputs": [],
   "source": [
    "file = r'recorder_Audio_file.wav'           ### test with recorded file \n",
    "feat=extract_feature(file, mfcc=True, chroma=True, mel=True)\n",
    "temp = feat.reshape(1, 180)\n",
    "pred = np.argmax(network.predict(temp))\n",
    "emotions = {0:'angry',1:'happy',2:'sad'}\n",
    "print(\"Predicted Emotion \"+emotions[(pred)])"
   ]
  },
  {
   "cell_type": "code",
   "execution_count": null,
   "metadata": {},
   "outputs": [],
   "source": [
    "\n"
   ]
  }
 ],
 "metadata": {
  "kernelspec": {
   "display_name": "Python 3",
   "language": "python",
   "name": "python3"
  },
  "language_info": {
   "codemirror_mode": {
    "name": "ipython",
    "version": 3
   },
   "file_extension": ".py",
   "mimetype": "text/x-python",
   "name": "python",
   "nbconvert_exporter": "python",
   "pygments_lexer": "ipython3",
   "version": "3.8.5"
  }
 },
 "nbformat": 4,
 "nbformat_minor": 4
}
